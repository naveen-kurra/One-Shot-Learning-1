{
  "nbformat": 4,
  "nbformat_minor": 0,
  "metadata": {
    "accelerator": "GPU",
    "colab": {
      "name": "One-Shot-Learning-1.ipynb",
      "provenance": [],
      "collapsed_sections": []
    },
    "kernelspec": {
      "display_name": "Python 3",
      "language": "python",
      "name": "python3"
    },
    "language_info": {
      "codemirror_mode": {
        "name": "ipython",
        "version": 3
      },
      "file_extension": ".py",
      "mimetype": "text/x-python",
      "name": "python",
      "nbconvert_exporter": "python",
      "pygments_lexer": "ipython3",
      "version": "3.7.4"
    }
  },
  "cells": [
    {
      "cell_type": "markdown",
      "metadata": {
        "colab_type": "text",
        "id": "bA1XMN2df42k"
      },
      "source": [
        "# Few Shot Learning\n",
        "\n",
        "---\n",
        "\n"
      ]
    },
    {
      "cell_type": "markdown",
      "metadata": {
        "colab_type": "text",
        "id": "tRLFL09MRb8H"
      },
      "source": [
        "# Omniglot data set for one-shot learning"
      ]
    },
    {
      "cell_type": "markdown",
      "metadata": {
        "colab_type": "text",
        "id": "U4dwjHmSSEKu"
      },
      "source": [
        "The Omniglot data set is designed for developing more human-like learning algorithms. It contains 1623 different handwritten characters from 50 different alphabets. Each of the 1623 characters was drawn online via Amazon's Mechanical Turk by 20 different people. Each image is paired with stroke data, a sequences of [x,y,t] coordinates with time (t) in milliseconds.\n",
        "\n",
        "### Contents\n",
        "The Omniglot data set contains 50 alphabets. We split these into a background set of 30 alphabets and an evaluation set of 20 alphabets. To compare with the results with the paper, only the background set should be used to learn general knowledge about characters (e.g., feature learning, meta-learning, or hyperparameter inference). One-shot learning results are reported using alphabets from the evaluation set.\n",
        "\n",
        "Two more challenging \"minimal\" splits contain only five background alphabets, denoted as \"background small 1\" and \"background small 2\". This is a closer approximation to the experience that a human adult might have for characters in general. For the goal of building human-level AI systems with minimal training, given a rough estimate of what \"minimal\" means for people, there is a need to explore settings with fewer training examples per class and fewer background classes for learning to learn.\n",
        "\n",
        "- Link to paper: https://science.sciencemag.org/content/350/6266/1332\n",
        "- Link to dataset: https://github.com/brendenlake/omniglot"
      ]
    },
    {
      "cell_type": "markdown",
      "metadata": {
        "colab_type": "text",
        "id": "ZOk8Eu4_t70R"
      },
      "source": [
        "Firstly, let's select TensorFlow version 2.x in colab"
      ]
    },
    {
      "cell_type": "code",
      "metadata": {
        "colab_type": "code",
        "id": "H6RZUm0p4wYJ",
        "colab": {
          "base_uri": "https://localhost:8080/",
          "height": 35
        },
        "outputId": "3c4f6996-6ed3-4c44-eaea-f34572ab1531"
      },
      "source": [
        "%tensorflow_version 2.x\n",
        "import tensorflow\n",
        "tensorflow.__version__"
      ],
      "execution_count": 2,
      "outputs": [
        {
          "output_type": "execute_result",
          "data": {
            "application/vnd.google.colaboratory.intrinsic+json": {
              "type": "string"
            },
            "text/plain": [
              "'2.3.0'"
            ]
          },
          "metadata": {
            "tags": []
          },
          "execution_count": 2
        }
      ]
    },
    {
      "cell_type": "code",
      "metadata": {
        "colab_type": "code",
        "id": "TWi96z-8SyX0",
        "colab": {}
      },
      "source": [
        "# Initialize the random number generator\n",
        "import random\n",
        "random.seed(0)\n",
        "\n",
        "# Ignore the warnings\n",
        "import warnings\n",
        "warnings.filterwarnings(\"ignore\")"
      ],
      "execution_count": 3,
      "outputs": []
    },
    {
      "cell_type": "markdown",
      "metadata": {
        "colab_type": "text",
        "id": "OKVkkLaLdPGU"
      },
      "source": [
        "### Load the dataset"
      ]
    },
    {
      "cell_type": "markdown",
      "metadata": {
        "colab_type": "text",
        "id": "JK0ZRJoxhrFe"
      },
      "source": [
        "As we are using google colab, we need to mount the google drive to load the data file"
      ]
    },
    {
      "cell_type": "code",
      "metadata": {
        "colab_type": "code",
        "id": "dv6RCAcGLd4w",
        "colab": {
          "base_uri": "https://localhost:8080/",
          "height": 124
        },
        "outputId": "3a4cb429-0c18-47fb-dba4-38fc987b8654"
      },
      "source": [
        "from google.colab import drive\n",
        "drive.mount('/content/drive/')"
      ],
      "execution_count": 1,
      "outputs": [
        {
          "output_type": "stream",
          "text": [
            "Go to this URL in a browser: https://accounts.google.com/o/oauth2/auth?client_id=947318989803-6bn6qk8qdgf4n4g3pfee6491hc0brc4i.apps.googleusercontent.com&redirect_uri=urn%3aietf%3awg%3aoauth%3a2.0%3aoob&response_type=code&scope=email%20https%3a%2f%2fwww.googleapis.com%2fauth%2fdocs.test%20https%3a%2f%2fwww.googleapis.com%2fauth%2fdrive%20https%3a%2f%2fwww.googleapis.com%2fauth%2fdrive.photos.readonly%20https%3a%2f%2fwww.googleapis.com%2fauth%2fpeopleapi.readonly\n",
            "\n",
            "Enter your authorization code:\n",
            "··········\n",
            "Mounted at /content/drive/\n"
          ],
          "name": "stdout"
        }
      ]
    },
    {
      "cell_type": "markdown",
      "metadata": {
        "colab_type": "text",
        "id": "3gqIEcuK-gqQ"
      },
      "source": [
        "Add path to the folder where your dataset files are"
      ]
    },
    {
      "cell_type": "code",
      "metadata": {
        "colab_type": "code",
        "id": "fzXrTG6fLqw4",
        "colab": {}
      },
      "source": [
        "project_path = '/content/drive/My Drive/Colab Notebooks/databases/datasets-master/Omniglot Dataset/'"
      ],
      "execution_count": 4,
      "outputs": []
    },
    {
      "cell_type": "markdown",
      "metadata": {
        "colab_type": "text",
        "id": "1FOfBTnoBjYi"
      },
      "source": [
        "Let's load the dataset now"
      ]
    },
    {
      "cell_type": "code",
      "metadata": {
        "colab_type": "code",
        "id": "PrXGB_RORiXN",
        "colab": {}
      },
      "source": [
        "training_zip_path = project_path + 'images_background-2.zip'\n",
        "validation_zip_path = project_path + 'images_evaluation-2.zip'"
      ],
      "execution_count": 5,
      "outputs": []
    },
    {
      "cell_type": "markdown",
      "metadata": {
        "colab_type": "text",
        "id": "2uX9VNVfR2p3"
      },
      "source": [
        "Extract the content of the zip files"
      ]
    },
    {
      "cell_type": "code",
      "metadata": {
        "colab_type": "code",
        "id": "qFiZc7Rbw7mm",
        "colab": {
          "base_uri": "https://localhost:8080/",
          "height": 52
        },
        "outputId": "690a89ac-d75a-427b-c1d0-878ddaca3c87"
      },
      "source": [
        "from zipfile import ZipFile\n",
        "\n",
        "with ZipFile(training_zip_path, 'r') as z:\n",
        "  z.extractall()\n",
        "print(\"Training zip extraction done!\")\n",
        "\n",
        "with ZipFile(validation_zip_path, 'r') as z:\n",
        "  z.extractall()\n",
        "print(\"Validation zip extraction done!\")"
      ],
      "execution_count": 6,
      "outputs": [
        {
          "output_type": "stream",
          "text": [
            "Training zip extraction done!\n",
            "Validation zip extraction done!\n"
          ],
          "name": "stdout"
        }
      ]
    },
    {
      "cell_type": "code",
      "metadata": {
        "colab_type": "code",
        "id": "X6uE4alZbecJ",
        "colab": {
          "base_uri": "https://localhost:8080/",
          "height": 320
        },
        "outputId": "ff6a04dc-e0f8-4647-afc5-907a5dfae6a3"
      },
      "source": [
        "import cv2\n",
        "import matplotlib.pyplot as plt\n",
        "\n",
        "\n",
        "img = cv2.imread('images_background/Sanskrit/character11/0861_05.png')\n",
        "print(\"Each image in the data set has a same of {0}\".format(img.shape))\n",
        "flattened_img = img.flatten()\n",
        "print(\"The number of features in any image from the data set are: {0}\".format(flattened_img.shape[0]))\n",
        "plt.imshow(img)"
      ],
      "execution_count": 7,
      "outputs": [
        {
          "output_type": "stream",
          "text": [
            "Each image in the data set has a same of (105, 105, 3)\n",
            "The number of features in any image from the data set are: 33075\n"
          ],
          "name": "stdout"
        },
        {
          "output_type": "execute_result",
          "data": {
            "text/plain": [
              "<matplotlib.image.AxesImage at 0x7f944551d710>"
            ]
          },
          "metadata": {
            "tags": []
          },
          "execution_count": 7
        },
        {
          "output_type": "display_data",
          "data": {
            "image/png": "[encoded data removed]",
            "text/plain": [
              "<Figure size 432x288 with 1 Axes>"
            ]
          },
          "metadata": {
            "tags": [],
            "needs_background": "light"
          }
        }
      ]
    },
    {
      "cell_type": "code",
      "metadata": {
        "colab_type": "code",
        "id": "iP2J9zEyfS8e",
        "colab": {
          "base_uri": "https://localhost:8080/",
          "height": 320
        },
        "outputId": "ea449e44-1c33-4b8c-ed89-0a4a947a2856"
      },
      "source": [
        "img = cv2.imread('images_evaluation/Kannada/character11/1215_05.png')\n",
        "print(\"Each image in the data set has a same of {0}\".format(img.shape))\n",
        "flattened_img = img.flatten()\n",
        "print(\"The number of features in any image from the data set are: {0}\".format(flattened_img.shape[0]))\n",
        "plt.imshow(img)"
      ],
      "execution_count": 8,
      "outputs": [
        {
          "output_type": "stream",
          "text": [
            "Each image in the data set has a same of (105, 105, 3)\n",
            "The number of features in any image from the data set are: 33075\n"
          ],
          "name": "stdout"
        },
        {
          "output_type": "execute_result",
          "data": {
            "text/plain": [
              "<matplotlib.image.AxesImage at 0x7f94469facf8>"
            ]
          },
          "metadata": {
            "tags": []
          },
          "execution_count": 8
        },
        {
          "output_type": "display_data",
          "data": {
            "image/png": "[encoded data removed]",
            "text/plain": [
              "<Figure size 432x288 with 1 Axes>"
            ]
          },
          "metadata": {
            "tags": [],
            "needs_background": "light"
          }
        }
      ]
    },
    {
      "cell_type": "code",
      "metadata": {
        "colab_type": "code",
        "id": "aWmlgm76becL",
        "colab": {}
      },
      "source": [
        "base_class_name = 'character'\n",
        "\n",
        "def gen_class_names(base_class_name):\n",
        "    classes = []\n",
        "    for i in range(1,21):\n",
        "        if i < 10:\n",
        "            classes.append(\"{0}0{1}\".format(base_class_name, i))\n",
        "        else:\n",
        "            classes.append(\"{0}{1}\".format(base_class_name, i))\n",
        "    return classes"
      ],
      "execution_count": 9,
      "outputs": []
    },
    {
      "cell_type": "code",
      "metadata": {
        "colab_type": "code",
        "id": "lW--qMTZbecN",
        "colab": {
          "base_uri": "https://localhost:8080/",
          "height": 55
        },
        "outputId": "9934c6a9-ee7b-4795-abb2-076b750678d7"
      },
      "source": [
        "classes = gen_class_names(base_class_name)\n",
        "print(classes)"
      ],
      "execution_count": 10,
      "outputs": [
        {
          "output_type": "stream",
          "text": [
            "['character01', 'character02', 'character03', 'character04', 'character05', 'character06', 'character07', 'character08', 'character09', 'character10', 'character11', 'character12', 'character13', 'character14', 'character15', 'character16', 'character17', 'character18', 'character19', 'character20']\n"
          ],
          "name": "stdout"
        }
      ]
    },
    {
      "cell_type": "markdown",
      "metadata": {
        "id": "QmlKkFtYh9yc",
        "colab_type": "text"
      },
      "source": [
        ""
      ]
    },
    {
      "cell_type": "code",
      "metadata": {
        "colab_type": "code",
        "id": "Egn9OIADbecP",
        "colab": {}
      },
      "source": [
        "from sklearn.preprocessing import LabelBinarizer\n",
        "\n",
        "def generate_one_hot_encoding(classes):\n",
        "    encoder = LabelBinarizer()\n",
        "    transfomed_labels = encoder.fit_transform(classes)\n",
        "    return transfomed_labels"
      ],
      "execution_count": 11,
      "outputs": []
    },
    {
      "cell_type": "code",
      "metadata": {
        "colab_type": "code",
        "id": "4OGiK8uKbecR",
        "colab": {
          "base_uri": "https://localhost:8080/",
          "height": 381
        },
        "outputId": "75ffe87b-a09c-41a3-fe39-df82c3ef72ae"
      },
      "source": [
        "labels = generate_one_hot_encoding(classes)\n",
        "print(labels)\n",
        "len(labels)"
      ],
      "execution_count": 12,
      "outputs": [
        {
          "output_type": "stream",
          "text": [
            "[[1 0 0 0 0 0 0 0 0 0 0 0 0 0 0 0 0 0 0 0]\n",
            " [0 1 0 0 0 0 0 0 0 0 0 0 0 0 0 0 0 0 0 0]\n",
            " [0 0 1 0 0 0 0 0 0 0 0 0 0 0 0 0 0 0 0 0]\n",
            " [0 0 0 1 0 0 0 0 0 0 0 0 0 0 0 0 0 0 0 0]\n",
            " [0 0 0 0 1 0 0 0 0 0 0 0 0 0 0 0 0 0 0 0]\n",
            " [0 0 0 0 0 1 0 0 0 0 0 0 0 0 0 0 0 0 0 0]\n",
            " [0 0 0 0 0 0 1 0 0 0 0 0 0 0 0 0 0 0 0 0]\n",
            " [0 0 0 0 0 0 0 1 0 0 0 0 0 0 0 0 0 0 0 0]\n",
            " [0 0 0 0 0 0 0 0 1 0 0 0 0 0 0 0 0 0 0 0]\n",
            " [0 0 0 0 0 0 0 0 0 1 0 0 0 0 0 0 0 0 0 0]\n",
            " [0 0 0 0 0 0 0 0 0 0 1 0 0 0 0 0 0 0 0 0]\n",
            " [0 0 0 0 0 0 0 0 0 0 0 1 0 0 0 0 0 0 0 0]\n",
            " [0 0 0 0 0 0 0 0 0 0 0 0 1 0 0 0 0 0 0 0]\n",
            " [0 0 0 0 0 0 0 0 0 0 0 0 0 1 0 0 0 0 0 0]\n",
            " [0 0 0 0 0 0 0 0 0 0 0 0 0 0 1 0 0 0 0 0]\n",
            " [0 0 0 0 0 0 0 0 0 0 0 0 0 0 0 1 0 0 0 0]\n",
            " [0 0 0 0 0 0 0 0 0 0 0 0 0 0 0 0 1 0 0 0]\n",
            " [0 0 0 0 0 0 0 0 0 0 0 0 0 0 0 0 0 1 0 0]\n",
            " [0 0 0 0 0 0 0 0 0 0 0 0 0 0 0 0 0 0 1 0]\n",
            " [0 0 0 0 0 0 0 0 0 0 0 0 0 0 0 0 0 0 0 1]]\n"
          ],
          "name": "stdout"
        },
        {
          "output_type": "execute_result",
          "data": {
            "text/plain": [
              "20"
            ]
          },
          "metadata": {
            "tags": []
          },
          "execution_count": 12
        }
      ]
    },
    {
      "cell_type": "markdown",
      "metadata": {
        "colab_type": "text",
        "id": "1lQgkL9xF-oy"
      },
      "source": [
        "### Let's define our model now\n",
        "\n",
        "(https://drive.google.com/file/d/1PH50n205Bkv9yfoeo0564htgPLVynElI/view?usp=sharing)\n",
        "\n",
        "https://drive.google.com/file/d/15w-vpbOrc-rm-Xsg3kGqYUAq_eWmEmq5/view?usp=sharing"
      ]
    },
    {
      "cell_type": "code",
      "metadata": {
        "colab_type": "code",
        "id": "RWNSn9Ipbecd",
        "colab": {}
      },
      "source": [
        "from tensorflow.keras.models import Sequential, Model\n",
        "from tensorflow.keras.layers import Input, Conv2D, MaxPooling2D, Flatten, Dense, Lambda\n",
        "from tensorflow.keras import backend as K\n",
        "\n",
        "K.set_image_data_format('channels_last')\n",
        "\n",
        "def get_siamese_model(input_shape):\n",
        "    \"\"\"\n",
        "        Model architecture based on the one provided in: http://www.cs.utoronto.ca/~gkoch/files/msc-thesis.pdf\n",
        "    \"\"\"\n",
        "    left_input = Input(input_shape)\n",
        "    right_input = Input(input_shape)\n",
        "    model = Sequential()\n",
        "    model.add(Conv2D(64, (10,10), activation='relu', input_shape=input_shape))\n",
        "    model.add(MaxPooling2D())\n",
        "    model.add(Conv2D(128, (7,7), activation='relu'))\n",
        "    model.add(MaxPooling2D())\n",
        "    model.add(Conv2D(128, (4,4), activation='relu'))\n",
        "    model.add(MaxPooling2D())\n",
        "    model.add(Conv2D(256, (4,4), activation='relu'))\n",
        "    model.add(Flatten())\n",
        "    model.add(Dense(4096, activation='sigmoid'))\n",
        "    encoded_l = model(left_input)\n",
        "    encoded_r = model(right_input)\n",
        "    L1_layer = Lambda(lambda tensors:K.abs(tensors[0] - tensors[1]))\n",
        "    L1_distance = L1_layer([encoded_l, encoded_r])\n",
        "    prediction = Dense(1,activation='sigmoid')(L1_distance)\n",
        "    siamese_net = Model(inputs=[left_input,right_input],outputs=prediction)\n",
        "\n",
        "    return siamese_net"
      ],
      "execution_count": 13,
      "outputs": []
    },
    {
      "cell_type": "markdown",
      "metadata": {
        "colab_type": "text",
        "id": "jRNNv1MIGQzs"
      },
      "source": [
        "### Create the model and print summary"
      ]
    },
    {
      "cell_type": "code",
      "metadata": {
        "colab_type": "code",
        "id": "ioLXDgqHbecg",
        "colab": {
          "base_uri": "https://localhost:8080/",
          "height": 364
        },
        "outputId": "99533dc3-c1d1-4f5a-a8a3-56e369bea588"
      },
      "source": [
        "model = get_siamese_model((105, 105, 1))\n",
        "model.summary()"
      ],
      "execution_count": 14,
      "outputs": [
        {
          "output_type": "stream",
          "text": [
            "Model: \"functional_1\"\n",
            "__________________________________________________________________________________________________\n",
            "Layer (type)                    Output Shape         Param #     Connected to                     \n",
            "==================================================================================================\n",
            "input_1 (InputLayer)            [(None, 105, 105, 1) 0                                            \n",
            "__________________________________________________________________________________________________\n",
            "input_2 (InputLayer)            [(None, 105, 105, 1) 0                                            \n",
            "__________________________________________________________________________________________________\n",
            "sequential (Sequential)         (None, 4096)         38947648    input_1[0][0]                    \n",
            "                                                                 input_2[0][0]                    \n",
            "__________________________________________________________________________________________________\n",
            "lambda (Lambda)                 (None, 4096)         0           sequential[0][0]                 \n",
            "                                                                 sequential[1][0]                 \n",
            "__________________________________________________________________________________________________\n",
            "dense_1 (Dense)                 (None, 1)            4097        lambda[0][0]                     \n",
            "==================================================================================================\n",
            "Total params: 38,951,745\n",
            "Trainable params: 38,951,745\n",
            "Non-trainable params: 0\n",
            "__________________________________________________________________________________________________\n"
          ],
          "name": "stdout"
        }
      ]
    },
    {
      "cell_type": "markdown",
      "metadata": {
        "colab_type": "text",
        "id": "0aeyqhjeGd_s"
      },
      "source": [
        "### Compile the model\n",
        "- Define optimizer\n",
        "- Define loss"
      ]
    },
    {
      "cell_type": "code",
      "metadata": {
        "colab_type": "code",
        "id": "AYLKoskFbeci",
        "colab": {}
      },
      "source": [
        "from tensorflow.keras.optimizers import Adam\n",
        "\n",
        "optimizer = Adam(lr = 0.00006)\n",
        "model.compile(loss=\"binary_crossentropy\",optimizer=optimizer)"
      ],
      "execution_count": 15,
      "outputs": []
    },
    {
      "cell_type": "markdown",
      "metadata": {
        "colab_type": "text",
        "id": "JrQQFJl9AmME"
      },
      "source": [
        "#### Plot all 20 samples of a particular character of a language"
      ]
    },
    {
      "cell_type": "code",
      "metadata": {
        "colab_type": "code",
        "id": "ET1bZQsGbecm",
        "colab": {}
      },
      "source": [
        "import matplotlib.pyplot as plt\n",
        "import os\n",
        "\n",
        "def plot_images(path):\n",
        "    \"\"\"\n",
        "        Plot all 20 samples of a particular character of a language\n",
        "    \"\"\"\n",
        "    f, axarr = plt.subplots(5,4, figsize=(10,10))\n",
        "    images_list = []\n",
        "    for image in os.listdir(path):\n",
        "        image_path = os.path.join(path, image)\n",
        "        img = cv2.imread(image_path)\n",
        "        images_list.append(img)\n",
        "    for i in range(5):\n",
        "        for j in range(4):\n",
        "            axarr[i,j].imshow(images_list.pop())"
      ],
      "execution_count": 16,
      "outputs": []
    },
    {
      "cell_type": "code",
      "metadata": {
        "colab_type": "code",
        "id": "dJKVKZspbeco",
        "colab": {
          "base_uri": "https://localhost:8080/",
          "height": 613
        },
        "outputId": "0fde8689-4af4-4890-d8a3-85e2e4447750"
      },
      "source": [
        "plot_images('images_background/Sanskrit/character02/')\n",
        "print(\"Sanskrit language, 20 samples of the third character.\")"
      ],
      "execution_count": 17,
      "outputs": [
        {
          "output_type": "stream",
          "text": [
            "Sanskrit language, 20 samples of the third character.\n"
          ],
          "name": "stdout"
        },
        {
          "output_type": "display_data",
          "data": {
            "image/png": "[encoded data removed]",
            "text/plain": [
              "<Figure size 720x720 with 20 Axes>"
            ]
          },
          "metadata": {
            "tags": [],
            "needs_background": "light"
          }
        }
      ]
    },
    {
      "cell_type": "markdown",
      "metadata": {
        "colab_type": "text",
        "id": "cEQ8oJmWAp5Q"
      },
      "source": [
        "Let's take one other language"
      ]
    },
    {
      "cell_type": "code",
      "metadata": {
        "colab_type": "code",
        "id": "_Msr3Q_cbecq",
        "colab": {
          "base_uri": "https://localhost:8080/",
          "height": 613
        },
        "outputId": "3c2de523-229b-4601-a178-197fc369e9c9"
      },
      "source": [
        "plot_images('images_background/Bengali/character03/')\n",
        "print(\"Bengali language, 20 samples of the seventh character.\")"
      ],
      "execution_count": 18,
      "outputs": [
        {
          "output_type": "stream",
          "text": [
            "Bengali language, 20 samples of the seventh character.\n"
          ],
          "name": "stdout"
        },
        {
          "output_type": "display_data",
          "data": {
            "image/png": "[encoded data removed]",
            "text/plain": [
              "<Figure size 720x720 with 20 Axes>"
            ]
          },
          "metadata": {
            "tags": [],
            "needs_background": "light"
          }
        }
      ]
    },
    {
      "cell_type": "markdown",
      "metadata": {
        "colab_type": "text",
        "id": "aKAQ7bEoA52a"
      },
      "source": [
        "### Load the training and validation pickles"
      ]
    },
    {
      "cell_type": "code",
      "metadata": {
        "colab_type": "code",
        "id": "URFz4aLebecw",
        "colab": {
          "base_uri": "https://localhost:8080/",
          "height": 159
        },
        "outputId": "51d55711-9cc7-42e0-e5d4-f178f38a3dd4"
      },
      "source": [
        "import pickle\n",
        "\n",
        "with open(os.path.join(project_path, \"train.pickle\"), \"rb\") as f:\n",
        "    (X, classes) = pickle.load(f)\n",
        "\n",
        "with open(os.path.join(project_path, \"val.pickle\"), \"rb\") as f:\n",
        "    (Xval, val_classes) = pickle.load(f)\n",
        "    \n",
        "print(\"Training alphabets: \\n\")\n",
        "print(len(list(classes.keys())))\n",
        "print(\"Validation alphabets:\", end=\"\\n\\n\")\n",
        "print(list(val_classes.keys()))\n",
        "print(X.shape)"
      ],
      "execution_count": 22,
      "outputs": [
        {
          "output_type": "stream",
          "text": [
            "Training alphabets: \n",
            "\n",
            "30\n",
            "Validation alphabets:\n",
            "\n",
            "['Angelic', 'Atemayar_Qelisayer', 'Atlantean', 'Aurek-Besh', 'Avesta', 'Ge_ez', 'Glagolitic', 'Gurmukhi', 'Kannada', 'Keble', 'Malayalam', 'Manipuri', 'Mongolian', 'Old_Church_Slavonic_(Cyrillic)', 'Oriya', 'Sylheti', 'Syriac_(Serto)', 'Tengwar', 'Tibetan', 'ULOG']\n",
            "(964, 20, 105, 105)\n"
          ],
          "name": "stdout"
        }
      ]
    },
    {
      "cell_type": "code",
      "metadata": {
        "id": "xifyAcMnRVa2",
        "colab_type": "code",
        "colab": {
          "base_uri": "https://localhost:8080/",
          "height": 55
        },
        "outputId": "e459142c-1142-4fa0-87e9-97858ca26f0f"
      },
      "source": [
        "print(list(classes.keys()))"
      ],
      "execution_count": 21,
      "outputs": [
        {
          "output_type": "stream",
          "text": [
            "['Alphabet_of_the_Magi', 'Anglo-Saxon_Futhorc', 'Arcadian', 'Armenian', 'Asomtavruli_(Georgian)', 'Balinese', 'Bengali', 'Blackfoot_(Canadian_Aboriginal_Syllabics)', 'Braille', 'Burmese_(Myanmar)', 'Cyrillic', 'Early_Aramaic', 'Futurama', 'Grantha', 'Greek', 'Gujarati', 'Hebrew', 'Inuktitut_(Canadian_Aboriginal_Syllabics)', 'Japanese_(hiragana)', 'Japanese_(katakana)', 'Korean', 'Latin', 'Malay_(Jawi_-_Arabic)', 'Mkhedruli_(Georgian)', 'N_Ko', 'Ojibwe_(Canadian_Aboriginal_Syllabics)', 'Sanskrit', 'Syriac_(Estrangelo)', 'Tagalog', 'Tifinagh']\n"
          ],
          "name": "stdout"
        }
      ]
    },
    {
      "cell_type": "code",
      "metadata": {
        "colab_type": "code",
        "id": "W_S439qQbecy",
        "colab": {
          "base_uri": "https://localhost:8080/",
          "height": 52
        },
        "outputId": "a15e6b75-323b-4033-8819-c3655401063c"
      },
      "source": [
        "import numpy.random as rng\n",
        "import numpy as np\n",
        "from sklearn.utils import shuffle\n",
        "\n",
        "class Siamese_Loader:\n",
        "    \"\"\"For loading batches and testing tasks to a siamese net\"\"\"\n",
        "    def __init__(self, path, data_subsets = [\"train\", \"val\"]):\n",
        "        self.data = {}\n",
        "        self.categories = {}\n",
        "        self.info = {}\n",
        "        \n",
        "        for name in data_subsets:\n",
        "            file_path = os.path.join(path, name + \".pickle\")\n",
        "            print(\"loading data from {}\".format(file_path))\n",
        "            with open(file_path,\"rb\") as f:\n",
        "                (X,c) = pickle.load(f)\n",
        "                self.data[name] = X\n",
        "                self.categories[name] = c\n",
        "\n",
        "    def get_batch(self,batch_size,s=\"train\"):\n",
        "        \"\"\"Create batch of n pairs, half same class, half different class\"\"\"\n",
        "        X=self.data[s]\n",
        "        n_classes, n_examples, w, h = X.shape\n",
        "\n",
        "        #randomly sample several classes to use in the batch\n",
        "        categories = rng.choice(n_classes,size=(batch_size,),replace=False)\n",
        "        #initialize 2 empty arrays for the input image batch\n",
        "        pairs=[np.zeros((batch_size, h, w,1)) for i in range(2)]\n",
        "        #initialize vector for the targets, and make one half of it '1's, so 2nd half of batch has same class\n",
        "        targets=np.zeros((batch_size,))\n",
        "        targets[batch_size//2:] = 1\n",
        "        for i in range(batch_size):\n",
        "            category = categories[i]\n",
        "            idx_1 = rng.randint(0, n_examples)\n",
        "            pairs[0][i,:,:,:] = X[category, idx_1].reshape(w, h, 1)\n",
        "            idx_2 = rng.randint(0, n_examples)\n",
        "            #pick images of same class for 1st half, different for 2nd\n",
        "            if i >= batch_size // 2:\n",
        "                category_2 = category  \n",
        "            else: \n",
        "                #add a random number to the category modulo n classes to ensure 2nd image has\n",
        "                # ..different category\n",
        "                category_2 = (category + rng.randint(1,n_classes)) % n_classes\n",
        "            pairs[1][i,:,:,:] = X[category_2,idx_2].reshape(w, h,1)\n",
        "        return pairs, targets\n",
        "    \n",
        "    def generate(self, batch_size, s=\"train\"):\n",
        "        \"\"\"a generator for batches, so model.fit_generator can be used. \"\"\"\n",
        "        while True:\n",
        "            pairs, targets = self.get_batch(batch_size,s)\n",
        "            yield (pairs, targets)    \n",
        "\n",
        "    def make_oneshot_task(self,N,s=\"val\",language=None):\n",
        "        \"\"\"Create pairs of test image, support set for testing N way one-shot learning. \"\"\"\n",
        "        X=self.data[s]\n",
        "        n_classes, n_examples, w, h = X.shape\n",
        "        indices = rng.randint(0,n_examples,size=(N,))\n",
        "        if language is not None:\n",
        "            low, high = self.categories[s][language]\n",
        "            if N > high - low:\n",
        "                raise ValueError(\"This language ({}) has less than {} letters\".format(language, N))\n",
        "            categories = rng.choice(range(low,high),size=(N,),replace=False)\n",
        "            \n",
        "        else:#if no language specified just pick a bunch of random letters\n",
        "            categories = rng.choice(range(n_classes),size=(N,),replace=False)            \n",
        "        true_category = categories[0]\n",
        "        ex1, ex2 = rng.choice(n_examples,replace=False,size=(2,))\n",
        "        test_image = np.asarray([X[true_category,ex1,:,:]]*N).reshape(N, w, h,1)\n",
        "        support_set = X[categories,indices,:,:]\n",
        "        support_set[0,:,:] = X[true_category,ex2]\n",
        "        support_set = support_set.reshape(N, w, h,1)\n",
        "        targets = np.zeros((N,))\n",
        "        targets[0] = 1\n",
        "        targets, test_image, support_set = shuffle(targets, test_image, support_set)\n",
        "        pairs = [test_image,support_set]\n",
        "\n",
        "        return pairs, targets\n",
        "    \n",
        "    def test_oneshot(self,model,N,k,s=\"val\",verbose=0):\n",
        "        \"\"\"Test average N way oneshot learning accuracy of a siamese neural net over k one-shot tasks\"\"\"\n",
        "        n_correct = 0\n",
        "        if verbose:\n",
        "            print(\"Evaluating model on {} random {} way one-shot learning tasks ... \\n\".format(k,N))\n",
        "        for i in range(k):\n",
        "            inputs, targets = self.make_oneshot_task(N,s)\n",
        "            probs = model.predict(inputs)\n",
        "            if np.argmax(probs) == np.argmax(targets):\n",
        "                n_correct+=1\n",
        "        percent_correct = (100.0*n_correct / k)\n",
        "        if verbose:\n",
        "            print(\"Got an average of {}% {} way one-shot learning accuracy \\n\".format(percent_correct,N))\n",
        "        return percent_correct\n",
        "    \n",
        "    def train(self, model, epochs, verbosity):\n",
        "        model.fit_generator(self.generate(batch_size))\n",
        "    \n",
        "\n",
        "loader = Siamese_Loader(project_path)"
      ],
      "execution_count": 23,
      "outputs": [
        {
          "output_type": "stream",
          "text": [
            "loading data from /content/drive/My Drive/Colab Notebooks/databases/datasets-master/Omniglot Dataset/train.pickle\n",
            "loading data from /content/drive/My Drive/Colab Notebooks/databases/datasets-master/Omniglot Dataset/val.pickle\n"
          ],
          "name": "stdout"
        }
      ]
    },
    {
      "cell_type": "markdown",
      "metadata": {
        "colab_type": "text",
        "id": "4YMUFwK6BGg9"
      },
      "source": [
        "### Concatenate a bunch of images into a big matrix for plotting purposes"
      ]
    },
    {
      "cell_type": "code",
      "metadata": {
        "colab_type": "code",
        "id": "WBwmTWbrbec0",
        "colab": {
          "base_uri": "https://localhost:8080/",
          "height": 255
        },
        "outputId": "fcb1e4a6-c170-4bf4-a94a-9a4adc8b98d0"
      },
      "source": [
        "def concat_images(X):\n",
        "    \"\"\"Concatenates a bunch of images into a big matrix for plotting purposes.\"\"\"\n",
        "    nc, h , w, _ = X.shape\n",
        "    X = X.reshape(nc, h, w)\n",
        "    n = np.ceil(np.sqrt(nc)).astype(\"int8\")\n",
        "    img = np.zeros((n*w,n*h))\n",
        "    x = 0\n",
        "    y = 0\n",
        "    for example in range(nc):\n",
        "        img[x*w:(x+1)*w,y*h:(y+1)*h] = X[example]\n",
        "        y += 1\n",
        "        if y >= n:\n",
        "            y = 0\n",
        "            x += 1\n",
        "    return img\n",
        "\n",
        "\n",
        "def plot_oneshot_task(pairs):\n",
        "    fig,(ax1,ax2) = plt.subplots(2)\n",
        "    ax1.matshow(pairs[0][0].reshape(105,105), cmap='gray')\n",
        "    img = concat_images(pairs[1])\n",
        "    ax1.get_yaxis().set_visible(False)\n",
        "    ax1.get_xaxis().set_visible(False)\n",
        "    ax2.matshow(img,cmap='gray')\n",
        "    plt.xticks([])\n",
        "    plt.yticks([])\n",
        "    plt.show()\n",
        "\n",
        "pairs, targets = loader.make_oneshot_task(20,\"train\",\"Japanese_(katakana)\")\n",
        "plot_oneshot_task(pairs)"
      ],
      "execution_count": 24,
      "outputs": [
        {
          "output_type": "display_data",
          "data": {
            "image/png": "[encoded data removed]",
            "text/plain": [
              "<Figure size 432x288 with 2 Axes>"
            ]
          },
          "metadata": {
            "tags": [],
            "needs_background": "light"
          }
        }
      ]
    },
    {
      "cell_type": "markdown",
      "metadata": {
        "id": "io5n-b2rlBiZ",
        "colab_type": "text"
      },
      "source": [
        ""
      ]
    },
    {
      "cell_type": "code",
      "metadata": {
        "colab_type": "code",
        "id": "1Hsj4xBJbec1",
        "colab": {
          "base_uri": "https://localhost:8080/",
          "height": 1000
        },
        "outputId": "0aaa5777-1781-482a-e8bf-cf462a3dbdb8"
      },
      "source": [
        "import time\n",
        "\n",
        "evaluate_every = 10 # interval for evaluating on one-shot tasks\n",
        "loss_every = 20 # interval for printing loss (iterations)\n",
        "batch_size = 32\n",
        "n_iter = 150\n",
        "N_way = 20 # how many classes for testing one-shot tasks>\n",
        "n_val = 250 # how many one-shot tasks to validate on?\n",
        "best = -1\n",
        "print(\"Starting training process!\")\n",
        "print(\"-------------------------------------\")\n",
        "t_start = time.time()\n",
        "for i in range(1, n_iter):\n",
        "    (inputs,targets)=loader.get_batch(batch_size)\n",
        "    loss=model.train_on_batch(inputs,targets)\n",
        "    print(\"\\n ------------- \\n\")\n",
        "    print(\"Loss: {0}\".format(loss)) \n",
        "    if i % evaluate_every == 0:\n",
        "        print(\"Time for {0} iterations: {1}\".format(i, time.time()-t_start))\n",
        "        val_acc = loader.test_oneshot(model,N_way,n_val,verbose=True)\n",
        "        if val_acc >= best:\n",
        "            print(\"Current best: {0}, previous best: {1}\".format(val_acc, best))\n",
        "            print(\"Saving weights to: {0} \\n\".format(project_path))\n",
        "            model.save_weights(project_path)\n",
        "            best=val_acc\n",
        "    \n",
        "    if i % loss_every == 0:\n",
        "        print(\"iteration {}, training loss: {:.2f},\".format(i,loss))\n",
        "\n",
        "        \n",
        "# weights_path = os.path.join(project_path, \"model_weights.h5\")\n",
        "# model.load_weights(weights_path)"
      ],
      "execution_count": 25,
      "outputs": [
        {
          "output_type": "stream",
          "text": [
            "Starting training process!\n",
            "-------------------------------------\n",
            "\n",
            " ------------- \n",
            "\n",
            "Loss: 0.6813125610351562\n",
            "\n",
            " ------------- \n",
            "\n",
            "Loss: 0.845028281211853\n",
            "\n",
            " ------------- \n",
            "\n",
            "Loss: 1.039741039276123\n",
            "\n",
            " ------------- \n",
            "\n",
            "Loss: 0.6924778819084167\n",
            "\n",
            " ------------- \n",
            "\n",
            "Loss: 0.6808640956878662\n",
            "\n",
            " ------------- \n",
            "\n",
            "Loss: 0.6966125965118408\n",
            "\n",
            " ------------- \n",
            "\n",
            "Loss: 0.714089035987854\n",
            "\n",
            " ------------- \n",
            "\n",
            "Loss: 0.704186737537384\n",
            "\n",
            " ------------- \n",
            "\n",
            "Loss: 0.6803456544876099\n",
            "\n",
            " ------------- \n",
            "\n",
            "Loss: 0.6870616674423218\n",
            "Time for 10 iterations: 7.490972995758057\n",
            "Evaluating model on 250 random 20 way one-shot learning tasks ... \n",
            "\n",
            "Got an average of 8.8% 20 way one-shot learning accuracy \n",
            "\n",
            "Current best: 8.8, previous best: -1\n",
            "Saving weights to: /content/drive/My Drive/Colab Notebooks/databases/datasets-master/Omniglot Dataset/ \n",
            "\n",
            "\n",
            " ------------- \n",
            "\n",
            "Loss: 0.6836696267127991\n",
            "\n",
            " ------------- \n",
            "\n",
            "Loss: 0.6832743883132935\n",
            "\n",
            " ------------- \n",
            "\n",
            "Loss: 0.6982652544975281\n",
            "\n",
            " ------------- \n",
            "\n",
            "Loss: 0.6914240121841431\n",
            "\n",
            " ------------- \n",
            "\n",
            "Loss: 0.6883374452590942\n",
            "\n",
            " ------------- \n",
            "\n",
            "Loss: 0.6903301477432251\n",
            "\n",
            " ------------- \n",
            "\n",
            "Loss: 0.6869367957115173\n",
            "\n",
            " ------------- \n",
            "\n",
            "Loss: 0.690883994102478\n",
            "\n",
            " ------------- \n",
            "\n",
            "Loss: 0.6805320978164673\n",
            "\n",
            " ------------- \n",
            "\n",
            "Loss: 0.6842007040977478\n",
            "Time for 20 iterations: 19.920472145080566\n",
            "Evaluating model on 250 random 20 way one-shot learning tasks ... \n",
            "\n",
            "Got an average of 10.0% 20 way one-shot learning accuracy \n",
            "\n",
            "Current best: 10.0, previous best: 8.8\n",
            "Saving weights to: /content/drive/My Drive/Colab Notebooks/databases/datasets-master/Omniglot Dataset/ \n",
            "\n",
            "iteration 20, training loss: 0.68,\n",
            "\n",
            " ------------- \n",
            "\n",
            "Loss: 0.6845278739929199\n",
            "\n",
            " ------------- \n",
            "\n",
            "Loss: 0.6913983821868896\n",
            "\n",
            " ------------- \n",
            "\n",
            "Loss: 0.6855804920196533\n",
            "\n",
            " ------------- \n",
            "\n",
            "Loss: 0.6871395111083984\n",
            "\n",
            " ------------- \n",
            "\n",
            "Loss: 0.6908627152442932\n",
            "\n",
            " ------------- \n",
            "\n",
            "Loss: 0.6865600943565369\n",
            "\n",
            " ------------- \n",
            "\n",
            "Loss: 0.6857274770736694\n",
            "\n",
            " ------------- \n",
            "\n",
            "Loss: 0.6904840469360352\n",
            "\n",
            " ------------- \n",
            "\n",
            "Loss: 0.6888808608055115\n",
            "\n",
            " ------------- \n",
            "\n",
            "Loss: 0.6899422407150269\n",
            "Time for 30 iterations: 32.148271799087524\n",
            "Evaluating model on 250 random 20 way one-shot learning tasks ... \n",
            "\n",
            "Got an average of 12.4% 20 way one-shot learning accuracy \n",
            "\n",
            "Current best: 12.4, previous best: 10.0\n",
            "Saving weights to: /content/drive/My Drive/Colab Notebooks/databases/datasets-master/Omniglot Dataset/ \n",
            "\n",
            "\n",
            " ------------- \n",
            "\n",
            "Loss: 0.6873795986175537\n",
            "\n",
            " ------------- \n",
            "\n",
            "Loss: 0.691596269607544\n",
            "\n",
            " ------------- \n",
            "\n",
            "Loss: 0.690192699432373\n",
            "\n",
            " ------------- \n",
            "\n",
            "Loss: 0.6946794986724854\n",
            "\n",
            " ------------- \n",
            "\n",
            "Loss: 0.6927345395088196\n",
            "\n",
            " ------------- \n",
            "\n",
            "Loss: 0.6910198926925659\n",
            "\n",
            " ------------- \n",
            "\n",
            "Loss: 0.6930452585220337\n",
            "\n",
            " ------------- \n",
            "\n",
            "Loss: 0.6953619122505188\n",
            "\n",
            " ------------- \n",
            "\n",
            "Loss: 0.6933744549751282\n",
            "\n",
            " ------------- \n",
            "\n",
            "Loss: 0.6904515624046326\n",
            "Time for 40 iterations: 44.69210648536682\n",
            "Evaluating model on 250 random 20 way one-shot learning tasks ... \n",
            "\n",
            "Got an average of 12.0% 20 way one-shot learning accuracy \n",
            "\n",
            "iteration 40, training loss: 0.69,\n",
            "\n",
            " ------------- \n",
            "\n",
            "Loss: 0.6922237873077393\n",
            "\n",
            " ------------- \n",
            "\n",
            "Loss: 0.6912879347801208\n",
            "\n",
            " ------------- \n",
            "\n",
            "Loss: 0.6919132471084595\n",
            "\n",
            " ------------- \n",
            "\n",
            "Loss: 0.6926447153091431\n",
            "\n",
            " ------------- \n",
            "\n",
            "Loss: 0.690656840801239\n",
            "\n",
            " ------------- \n",
            "\n",
            "Loss: 0.6945619583129883\n",
            "\n",
            " ------------- \n",
            "\n",
            "Loss: 0.6919093728065491\n",
            "\n",
            " ------------- \n",
            "\n",
            "Loss: 0.6935319900512695\n",
            "\n",
            " ------------- \n",
            "\n",
            "Loss: 0.6931690573692322\n",
            "\n",
            " ------------- \n",
            "\n",
            "Loss: 0.692872166633606\n",
            "Time for 50 iterations: 55.43156695365906\n",
            "Evaluating model on 250 random 20 way one-shot learning tasks ... \n",
            "\n",
            "Got an average of 8.0% 20 way one-shot learning accuracy \n",
            "\n",
            "\n",
            " ------------- \n",
            "\n",
            "Loss: 0.6929929256439209\n",
            "\n",
            " ------------- \n",
            "\n",
            "Loss: 0.6928512454032898\n",
            "\n",
            " ------------- \n",
            "\n",
            "Loss: 0.6927276849746704\n",
            "\n",
            " ------------- \n",
            "\n",
            "Loss: 0.692625880241394\n",
            "\n",
            " ------------- \n",
            "\n",
            "Loss: 0.6937401294708252\n",
            "\n",
            " ------------- \n",
            "\n",
            "Loss: 0.6929575204849243\n",
            "\n",
            " ------------- \n",
            "\n",
            "Loss: 0.6914821863174438\n",
            "\n",
            " ------------- \n",
            "\n",
            "Loss: 0.6900153756141663\n",
            "\n",
            " ------------- \n",
            "\n",
            "Loss: 0.6930431723594666\n",
            "\n",
            " ------------- \n",
            "\n",
            "Loss: 0.6923107504844666\n",
            "Time for 60 iterations: 66.03817105293274\n",
            "Evaluating model on 250 random 20 way one-shot learning tasks ... \n",
            "\n",
            "Got an average of 2.8% 20 way one-shot learning accuracy \n",
            "\n",
            "iteration 60, training loss: 0.69,\n",
            "\n",
            " ------------- \n",
            "\n",
            "Loss: 0.6952341198921204\n",
            "\n",
            " ------------- \n",
            "\n",
            "Loss: 0.6929632425308228\n",
            "\n",
            " ------------- \n",
            "\n",
            "Loss: 0.6932367086410522\n",
            "\n",
            " ------------- \n",
            "\n",
            "Loss: 0.6931371688842773\n",
            "\n",
            " ------------- \n",
            "\n",
            "Loss: 0.6931599974632263\n",
            "\n",
            " ------------- \n",
            "\n",
            "Loss: 0.6933426856994629\n",
            "\n",
            " ------------- \n",
            "\n",
            "Loss: 0.6930892467498779\n",
            "\n",
            " ------------- \n",
            "\n",
            "Loss: 0.693356990814209\n",
            "\n",
            " ------------- \n",
            "\n",
            "Loss: 0.6937954425811768\n",
            "\n",
            " ------------- \n",
            "\n",
            "Loss: 0.693640410900116\n",
            "Time for 70 iterations: 76.04377865791321\n",
            "Evaluating model on 250 random 20 way one-shot learning tasks ... \n",
            "\n",
            "Got an average of 4.8% 20 way one-shot learning accuracy \n",
            "\n",
            "\n",
            " ------------- \n",
            "\n",
            "Loss: 0.6932100057601929\n",
            "\n",
            " ------------- \n",
            "\n",
            "Loss: 0.6931746602058411\n",
            "\n",
            " ------------- \n",
            "\n",
            "Loss: 0.6931567192077637\n",
            "\n",
            " ------------- \n",
            "\n",
            "Loss: 0.6931564807891846\n",
            "\n",
            " ------------- \n",
            "\n",
            "Loss: 0.6931776404380798\n",
            "\n",
            " ------------- \n",
            "\n",
            "Loss: 0.6931781768798828\n",
            "\n",
            " ------------- \n",
            "\n",
            "Loss: 0.6930454969406128\n",
            "\n",
            " ------------- \n",
            "\n",
            "Loss: 0.6929432153701782\n",
            "\n",
            " ------------- \n",
            "\n",
            "Loss: 0.6932012438774109\n",
            "\n",
            " ------------- \n",
            "\n",
            "Loss: 0.6925629377365112\n",
            "Time for 80 iterations: 86.18309092521667\n",
            "Evaluating model on 250 random 20 way one-shot learning tasks ... \n",
            "\n",
            "Got an average of 10.0% 20 way one-shot learning accuracy \n",
            "\n",
            "iteration 80, training loss: 0.69,\n",
            "\n",
            " ------------- \n",
            "\n",
            "Loss: 0.6923662424087524\n",
            "\n",
            " ------------- \n",
            "\n",
            "Loss: 0.6933177709579468\n",
            "\n",
            " ------------- \n",
            "\n",
            "Loss: 0.6943390965461731\n",
            "\n",
            " ------------- \n",
            "\n",
            "Loss: 0.6931987404823303\n",
            "\n",
            " ------------- \n",
            "\n",
            "Loss: 0.6927189826965332\n",
            "\n",
            " ------------- \n",
            "\n",
            "Loss: 0.6927268505096436\n",
            "\n",
            " ------------- \n",
            "\n",
            "Loss: 0.6929636001586914\n",
            "\n",
            " ------------- \n",
            "\n",
            "Loss: 0.6925085186958313\n",
            "\n",
            " ------------- \n",
            "\n",
            "Loss: 0.6911836862564087\n",
            "\n",
            " ------------- \n",
            "\n",
            "Loss: 0.6933072805404663\n",
            "Time for 90 iterations: 96.14080142974854\n",
            "Evaluating model on 250 random 20 way one-shot learning tasks ... \n",
            "\n",
            "Got an average of 7.6% 20 way one-shot learning accuracy \n",
            "\n",
            "\n",
            " ------------- \n",
            "\n",
            "Loss: 0.6908032894134521\n",
            "\n",
            " ------------- \n",
            "\n",
            "Loss: 0.6941705346107483\n",
            "\n",
            " ------------- \n",
            "\n",
            "Loss: 0.6928815841674805\n",
            "\n",
            " ------------- \n",
            "\n",
            "Loss: 0.6931484937667847\n",
            "\n",
            " ------------- \n",
            "\n",
            "Loss: 0.693118155002594\n",
            "\n",
            " ------------- \n",
            "\n",
            "Loss: 0.6931110620498657\n",
            "\n",
            " ------------- \n",
            "\n",
            "Loss: 0.69288170337677\n",
            "\n",
            " ------------- \n",
            "\n",
            "Loss: 0.692977786064148\n",
            "\n",
            " ------------- \n",
            "\n",
            "Loss: 0.693130612373352\n",
            "\n",
            " ------------- \n",
            "\n",
            "Loss: 0.6931499242782593\n",
            "Time for 100 iterations: 106.22343373298645\n",
            "Evaluating model on 250 random 20 way one-shot learning tasks ... \n",
            "\n",
            "Got an average of 2.8% 20 way one-shot learning accuracy \n",
            "\n",
            "iteration 100, training loss: 0.69,\n",
            "\n",
            " ------------- \n",
            "\n",
            "Loss: 0.6931476593017578\n",
            "\n",
            " ------------- \n",
            "\n",
            "Loss: 0.6931475400924683\n",
            "\n",
            " ------------- \n",
            "\n",
            "Loss: 0.6931577920913696\n",
            "\n",
            " ------------- \n",
            "\n",
            "Loss: 0.693136990070343\n",
            "\n",
            " ------------- \n",
            "\n",
            "Loss: 0.6934211254119873\n",
            "\n",
            " ------------- \n",
            "\n",
            "Loss: 0.693150520324707\n",
            "\n",
            " ------------- \n",
            "\n",
            "Loss: 0.6931520104408264\n",
            "\n",
            " ------------- \n",
            "\n",
            "Loss: 0.6931395530700684\n",
            "\n",
            " ------------- \n",
            "\n",
            "Loss: 0.6931860446929932\n",
            "\n",
            " ------------- \n",
            "\n",
            "Loss: 0.6933358907699585\n",
            "Time for 110 iterations: 116.154376745224\n",
            "Evaluating model on 250 random 20 way one-shot learning tasks ... \n",
            "\n",
            "Got an average of 3.6% 20 way one-shot learning accuracy \n",
            "\n",
            "\n",
            " ------------- \n",
            "\n",
            "Loss: 0.6930860280990601\n",
            "\n",
            " ------------- \n",
            "\n",
            "Loss: 0.693158745765686\n",
            "\n",
            " ------------- \n",
            "\n",
            "Loss: 0.6930116415023804\n",
            "\n",
            " ------------- \n",
            "\n",
            "Loss: 0.6932806968688965\n",
            "\n",
            " ------------- \n",
            "\n",
            "Loss: 0.6929519176483154\n",
            "\n",
            " ------------- \n",
            "\n",
            "Loss: 0.6920723915100098\n",
            "\n",
            " ------------- \n",
            "\n",
            "Loss: 0.6930491924285889\n",
            "\n",
            " ------------- \n",
            "\n",
            "Loss: 0.6927310228347778\n",
            "\n",
            " ------------- \n",
            "\n",
            "Loss: 0.6933292150497437\n",
            "\n",
            " ------------- \n",
            "\n",
            "Loss: 0.6933472156524658\n",
            "Time for 120 iterations: 126.23153066635132\n",
            "Evaluating model on 250 random 20 way one-shot learning tasks ... \n",
            "\n",
            "Got an average of 4.4% 20 way one-shot learning accuracy \n",
            "\n",
            "iteration 120, training loss: 0.69,\n",
            "\n",
            " ------------- \n",
            "\n",
            "Loss: 0.6929473876953125\n",
            "\n",
            " ------------- \n",
            "\n",
            "Loss: 0.6932454109191895\n",
            "\n",
            " ------------- \n",
            "\n",
            "Loss: 0.6930946111679077\n",
            "\n",
            " ------------- \n",
            "\n",
            "Loss: 0.6931132078170776\n",
            "\n",
            " ------------- \n",
            "\n",
            "Loss: 0.6932016611099243\n",
            "\n",
            " ------------- \n",
            "\n",
            "Loss: 0.6930518746376038\n",
            "\n",
            " ------------- \n",
            "\n",
            "Loss: 0.6933580040931702\n",
            "\n",
            " ------------- \n",
            "\n",
            "Loss: 0.6935399770736694\n",
            "\n",
            " ------------- \n",
            "\n",
            "Loss: 0.6933647394180298\n",
            "\n",
            " ------------- \n",
            "\n",
            "Loss: 0.6931117177009583\n",
            "Time for 130 iterations: 136.1901228427887\n",
            "Evaluating model on 250 random 20 way one-shot learning tasks ... \n",
            "\n",
            "Got an average of 5.6% 20 way one-shot learning accuracy \n",
            "\n",
            "\n",
            " ------------- \n",
            "\n",
            "Loss: 0.6931556463241577\n",
            "\n",
            " ------------- \n",
            "\n",
            "Loss: 0.6933766603469849\n",
            "\n",
            " ------------- \n",
            "\n",
            "Loss: 0.6933222413063049\n",
            "\n",
            " ------------- \n",
            "\n",
            "Loss: 0.6931817531585693\n",
            "\n",
            " ------------- \n",
            "\n",
            "Loss: 0.693210780620575\n",
            "\n",
            " ------------- \n",
            "\n",
            "Loss: 0.6931357383728027\n",
            "\n",
            " ------------- \n",
            "\n",
            "Loss: 0.6931436061859131\n",
            "\n",
            " ------------- \n",
            "\n",
            "Loss: 0.6931148767471313\n",
            "\n",
            " ------------- \n",
            "\n",
            "Loss: 0.6927042007446289\n",
            "\n",
            " ------------- \n",
            "\n",
            "Loss: 0.6924809217453003\n",
            "Time for 140 iterations: 146.34068369865417\n",
            "Evaluating model on 250 random 20 way one-shot learning tasks ... \n",
            "\n",
            "Got an average of 4.4% 20 way one-shot learning accuracy \n",
            "\n",
            "iteration 140, training loss: 0.69,\n",
            "\n",
            " ------------- \n",
            "\n",
            "Loss: 0.6931125521659851\n",
            "\n",
            " ------------- \n",
            "\n",
            "Loss: 0.6930420398712158\n",
            "\n",
            " ------------- \n",
            "\n",
            "Loss: 0.6933534741401672\n",
            "\n",
            " ------------- \n",
            "\n",
            "Loss: 0.6931416988372803\n",
            "\n",
            " ------------- \n",
            "\n",
            "Loss: 0.6931711435317993\n",
            "\n",
            " ------------- \n",
            "\n",
            "Loss: 0.6931565999984741\n",
            "\n",
            " ------------- \n",
            "\n",
            "Loss: 0.6931418180465698\n",
            "\n",
            " ------------- \n",
            "\n",
            "Loss: 0.6931848526000977\n",
            "\n",
            " ------------- \n",
            "\n",
            "Loss: 0.6931449770927429\n"
          ],
          "name": "stdout"
        }
      ]
    },
    {
      "cell_type": "code",
      "metadata": {
        "colab_type": "code",
        "id": "CN0FksuMbec3",
        "colab": {
          "base_uri": "https://localhost:8080/",
          "height": 1000
        },
        "outputId": "cf5b81f5-49fe-4b38-fe47-86f4333d4e4a"
      },
      "source": [
        "def nearest_neighbour_correct(pairs,targets):\n",
        "    \"\"\"returns 1 if nearest neighbour gets the correct answer for a one-shot task\n",
        "        given by (pairs, targets)\"\"\"\n",
        "    L2_distances = np.zeros_like(targets)\n",
        "    for i in range(len(targets)):\n",
        "        L2_distances[i] = np.sum(np.sqrt(pairs[0][i]**2 - pairs[1][i]**2))\n",
        "    if np.argmin(L2_distances) == np.argmax(targets):\n",
        "        return 1\n",
        "    return 0\n",
        "\n",
        "\n",
        "def test_nn_accuracy(N_ways,n_trials,loader):\n",
        "    \"\"\"Returns accuracy of one shot \"\"\"\n",
        "    print(\"Evaluating nearest neighbour on {} unique {} way one-shot learning tasks ...\".format(n_trials,N_ways))\n",
        "\n",
        "    n_right = 0\n",
        "    \n",
        "    for i in range(n_trials):\n",
        "        pairs,targets = loader.make_oneshot_task(N_ways,\"val\")\n",
        "        correct = nearest_neighbour_correct(pairs,targets)\n",
        "        n_right += correct\n",
        "    return 100.0 * n_right / n_trials\n",
        "\n",
        "\n",
        "ways = np.arange(1, 20, 2)\n",
        "resume =  False\n",
        "val_accs, train_accs,nn_accs = [], [], []\n",
        "trials = 450\n",
        "for N in ways:\n",
        "    val_accs.append(loader.test_oneshot(model, N,trials, \"val\", verbose=True))\n",
        "    train_accs.append(loader.test_oneshot(model, N,trials, \"train\", verbose=True))\n",
        "    nn_accs.append(test_nn_accuracy(N,trials, loader))\n",
        "    \n",
        "#plot the accuracy vs num categories for each\n",
        "plt.plot(ways, val_accs, \"m\")\n",
        "plt.plot(ways, train_accs, \"y\")\n",
        "plt.plot(ways, nn_accs, \"c\")\n",
        "\n",
        "plt.plot(ways,100.0/ways,\"r\")\n",
        "plt.show()"
      ],
      "execution_count": 26,
      "outputs": [
        {
          "output_type": "stream",
          "text": [
            "Evaluating model on 450 random 1 way one-shot learning tasks ... \n",
            "\n",
            "Got an average of 100.0% 1 way one-shot learning accuracy \n",
            "\n",
            "Evaluating model on 450 random 1 way one-shot learning tasks ... \n",
            "\n",
            "Got an average of 100.0% 1 way one-shot learning accuracy \n",
            "\n",
            "Evaluating nearest neighbour on 450 unique 1 way one-shot learning tasks ...\n",
            "Evaluating model on 450 random 3 way one-shot learning tasks ... \n",
            "\n",
            "Got an average of 31.555555555555557% 3 way one-shot learning accuracy \n",
            "\n",
            "Evaluating model on 450 random 3 way one-shot learning tasks ... \n",
            "\n",
            "Got an average of 39.77777777777778% 3 way one-shot learning accuracy \n",
            "\n",
            "Evaluating nearest neighbour on 450 unique 3 way one-shot learning tasks ...\n",
            "Evaluating model on 450 random 5 way one-shot learning tasks ... \n",
            "\n",
            "Got an average of 24.22222222222222% 5 way one-shot learning accuracy \n",
            "\n",
            "Evaluating model on 450 random 5 way one-shot learning tasks ... \n",
            "\n",
            "Got an average of 27.333333333333332% 5 way one-shot learning accuracy \n",
            "\n",
            "Evaluating nearest neighbour on 450 unique 5 way one-shot learning tasks ...\n",
            "Evaluating model on 450 random 7 way one-shot learning tasks ... \n",
            "\n",
            "Got an average of 18.88888888888889% 7 way one-shot learning accuracy \n",
            "\n",
            "Evaluating model on 450 random 7 way one-shot learning tasks ... \n",
            "\n",
            "Got an average of 18.22222222222222% 7 way one-shot learning accuracy \n",
            "\n",
            "Evaluating nearest neighbour on 450 unique 7 way one-shot learning tasks ...\n",
            "Evaluating model on 450 random 9 way one-shot learning tasks ... \n",
            "\n",
            "Got an average of 12.444444444444445% 9 way one-shot learning accuracy \n",
            "\n",
            "Evaluating model on 450 random 9 way one-shot learning tasks ... \n",
            "\n",
            "Got an average of 16.22222222222222% 9 way one-shot learning accuracy \n",
            "\n",
            "Evaluating nearest neighbour on 450 unique 9 way one-shot learning tasks ...\n",
            "Evaluating model on 450 random 11 way one-shot learning tasks ... \n",
            "\n",
            "Got an average of 11.777777777777779% 11 way one-shot learning accuracy \n",
            "\n",
            "Evaluating model on 450 random 11 way one-shot learning tasks ... \n",
            "\n",
            "Got an average of 12.444444444444445% 11 way one-shot learning accuracy \n",
            "\n",
            "Evaluating nearest neighbour on 450 unique 11 way one-shot learning tasks ...\n",
            "Evaluating model on 450 random 13 way one-shot learning tasks ... \n",
            "\n",
            "Got an average of 7.777777777777778% 13 way one-shot learning accuracy \n",
            "\n",
            "Evaluating model on 450 random 13 way one-shot learning tasks ... \n",
            "\n",
            "Got an average of 11.333333333333334% 13 way one-shot learning accuracy \n",
            "\n",
            "Evaluating nearest neighbour on 450 unique 13 way one-shot learning tasks ...\n",
            "Evaluating model on 450 random 15 way one-shot learning tasks ... \n",
            "\n",
            "Got an average of 9.333333333333334% 15 way one-shot learning accuracy \n",
            "\n",
            "Evaluating model on 450 random 15 way one-shot learning tasks ... \n",
            "\n",
            "Got an average of 8.0% 15 way one-shot learning accuracy \n",
            "\n",
            "Evaluating nearest neighbour on 450 unique 15 way one-shot learning tasks ...\n",
            "Evaluating model on 450 random 17 way one-shot learning tasks ... \n",
            "\n",
            "Got an average of 8.222222222222221% 17 way one-shot learning accuracy \n",
            "\n",
            "Evaluating model on 450 random 17 way one-shot learning tasks ... \n",
            "\n",
            "Got an average of 8.222222222222221% 17 way one-shot learning accuracy \n",
            "\n",
            "Evaluating nearest neighbour on 450 unique 17 way one-shot learning tasks ...\n",
            "Evaluating model on 450 random 19 way one-shot learning tasks ... \n",
            "\n",
            "Got an average of 6.0% 19 way one-shot learning accuracy \n",
            "\n",
            "Evaluating model on 450 random 19 way one-shot learning tasks ... \n",
            "\n",
            "Got an average of 6.666666666666667% 19 way one-shot learning accuracy \n",
            "\n",
            "Evaluating nearest neighbour on 450 unique 19 way one-shot learning tasks ...\n"
          ],
          "name": "stdout"
        },
        {
          "output_type": "display_data",
          "data": {
            "image/png": "[encoded data removed]",
            "text/plain": [
              "<Figure size 432x288 with 1 Axes>"
            ]
          },
          "metadata": {
            "tags": [],
            "needs_background": "light"
          }
        }
      ]
    },
    {
      "cell_type": "code",
      "metadata": {
        "colab_type": "code",
        "id": "zDSw9a9Fbec5",
        "colab": {
          "base_uri": "https://localhost:8080/",
          "height": 533
        },
        "outputId": "c29e7105-9c9f-4a49-ce6b-463c15ea8923"
      },
      "source": [
        "fig,ax = plt.subplots(1)\n",
        "ax.plot(ways, val_accs, \"m\", label=\"Siamese(val set)\")\n",
        "ax.plot(ways, train_accs, \"y\", label=\"Siamese(train set)\")\n",
        "plt.plot(ways, nn_accs, label=\"Nearest neighbour\")\n",
        "\n",
        "ax.plot(ways, 100.0/ways, \"g\", label=\"Random guessing\")\n",
        "plt.xlabel(\"Number of possible classes in one-shot tasks\")\n",
        "plt.ylabel(\"% Accuracy\")\n",
        "plt.title(\"Omiglot One-Shot Learning Performance of a Siamese Network\")\n",
        "box = ax.get_position()\n",
        "ax.set_position([box.x0, box.y0, box.width * 0.8, box.height])\n",
        "ax.legend(loc='center left', bbox_to_anchor=(1, 0.5))\n",
        "inputs,targets = loader.make_oneshot_task(20, \"val\")\n",
        "plt.show()\n",
        "\n",
        "plot_oneshot_task(inputs)"
      ],
      "execution_count": 48,
      "outputs": [
        {
          "output_type": "display_data",
          "data": {
            "image/png": "[encoded data removed]",
            "text/plain": [
              "<Figure size 432x288 with 1 Axes>"
            ]
          },
          "metadata": {
            "tags": [],
            "needs_background": "light"
          }
        },
        {
          "output_type": "display_data",
          "data": {
            "image/png": "[encoded data removed]",
            "text/plain": [
              "<Figure size 432x288 with 2 Axes>"
            ]
          },
          "metadata": {
            "tags": [],
            "needs_background": "light"
          }
        }
      ]
    },
    {
      "cell_type": "markdown",
      "metadata": {
        "id": "16yDrbxeqohf",
        "colab_type": "text"
      },
      "source": [
        "https://drive.google.com/file/d/1VRPWuHVcp2_7z3tZfkaq7hHm6DA5M_6H/view?usp=sharing"
      ]
    },
    {
      "cell_type": "code",
      "metadata": {
        "id": "FlCSBBeAqpSE",
        "colab_type": "code",
        "colab": {}
      },
      "source": [
        ""
      ],
      "execution_count": null,
      "outputs": []
    }
  ]
}